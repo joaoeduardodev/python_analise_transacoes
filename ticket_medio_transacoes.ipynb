{
 "cells": [
  {
   "cell_type": "code",
   "execution_count": null,
   "id": "da500d94",
   "metadata": {},
   "outputs": [],
   "source": [
    "# Código para análise ticket médio de transações\n",
    "\n",
    "#importando o pandas\n",
    "import pandas as pd\n",
    "\n",
    "#carregando os dados das transações\n",
    "df = pd.read_csv('transacoes.csv')\n",
    "\n",
    "#imprimindo os dados para conferir\n",
    "print(df)\n"
   ]
  },
  {
   "cell_type": "code",
   "execution_count": null,
   "metadata": {},
   "outputs": [],
   "source": [
    "#Agrupando os dados por clientes e realizando a média\n",
    "# através da função da agg (agregate), ela recebe um dicionário\n",
    "# cuja a chave é nome da coluna e o valor é o método de agragação\n",
    "df.groupby('id_client').agg({'transaction':'mean'}).head(10)"
   ]
  },
  {
   "cell_type": "code",
   "execution_count": null,
   "metadata": {},
   "outputs": [],
   "source": [
    "#Mostrar a quantidade de trasações por cliente\n",
    "# através da função size\n",
    "df.groupby('id_client').size().head(10)"
   ]
  },
  {
   "cell_type": "code",
   "execution_count": null,
   "metadata": {},
   "outputs": [],
   "source": [
    "#Filtrar dataframe por coluna\n",
    "# a função isin, verifica se a lista de valores passados existe na coluna especificada\n",
    "df[(df['transaction'] > 1000) & (df['gender'].isin(['Male']))]"
   ]
  },
  {
   "cell_type": "code",
   "execution_count": null,
   "metadata": {},
   "outputs": [],
   "source": [
    "#Realizando a conversão para datas validas pelo pandas \n",
    "df['date'] = pd.to_datetime(df['date'], errors='coerce')\n",
    "#Verificando quais transações ocorreram em junho (dt.month > 6) com valores acima de R$ 5000,00\n",
    "df[(df['transaction'] > 5000) & (df['date'].dt.month == 6)]"
   ]
  },
  {
   "cell_type": "code",
   "execution_count": 227,
   "metadata": {},
   "outputs": [
    {
     "name": "stdout",
     "output_type": "stream",
     "text": [
      "     id_x  id_client  first_name                      email       gender  \\\n",
      "0      25         38       Lucho       llivero@netscape.com       Female   \n",
      "1      29        117  Stephannie    sdeschleins@dedecms.com       Female   \n",
      "3      40         37        Bryn   bdewsbury13@google.co.jp  Genderqueer   \n",
      "4      48        144       Caren      celwel1b@linkedin.com      Agender   \n",
      "5      54        115        Alfy           adabs1h@youtu.be       Female   \n",
      "..    ...        ...         ...                        ...          ...   \n",
      "115   954         28       Julie        jbaptieqh@cam.ac.uk         Male   \n",
      "116   960         71      Beilul     bkarchewskiqn@nasa.gov         Male   \n",
      "117   968        101      Franky  fathowqv@businessweek.com  Genderfluid   \n",
      "119   986          7       Shane       sbromidgerd@fema.gov   Polygender   \n",
      "120   998         62       Derek   dvonhindenburgrp@nps.gov      Agender   \n",
      "\n",
      "     transaction_x       date        id_y  transaction_y  \n",
      "0          5886.77 2021-06-18  641.875000    4569.267500  \n",
      "1          9780.35 2020-06-27  343.000000    5006.410000  \n",
      "3          3774.59 2020-06-24  603.000000    5276.035714  \n",
      "4          3596.71 2021-06-08  287.000000    2126.810000  \n",
      "5          6962.13 2020-06-02  659.250000    6849.960000  \n",
      "..             ...        ...         ...            ...  \n",
      "115        2928.77 2021-06-01  639.500000    5162.822500  \n",
      "116        3929.01 2021-06-16  325.750000    5108.207500  \n",
      "117        6106.40 2021-06-13  430.250000    4876.457500  \n",
      "119        5191.64 2021-06-11  613.500000    6165.920000  \n",
      "120        6440.00 2021-06-15  660.333333    7820.930000  \n",
      "\n",
      "[95 rows x 9 columns]\n"
     ]
    }
   ],
   "source": [
    "#Realizando a conversão para datas validas pelo pandas \n",
    "df['date'] = pd.to_datetime(df['date'], errors='coerce')\n",
    "#Filtrando as transações dos ulttimos meses\n",
    "ultimos_meses = df[(df['date'].dt.month >= 1) & (df['date'].dt.month <= 5 )]\n",
    "#Filtrando apenas as transações do ultimo mes\n",
    "ultimo_mes = df[df['date'].dt.month == 6 ]\n",
    "#Realizando a média das transações dos últimos meses\n",
    "ultimos_meses = ultimos_meses.groupby('id_client').mean().reset_index()\n",
    "#Unindo as transações dos clientes do ultimo mes com a média dos nos últimos meses \n",
    "#Assim transformando tudo em umaa só tabela\n",
    "final = ultimo_mes.merge(ultimos_meses, on='id_client', how='left' )\n",
    "\n",
    "\n",
    "#Verificando quais transações do último mês foram maiores que 2x o valor \n",
    "# da média das transações dos últimos meses\n",
    "print(final[final['transaction_x'] * 2 > final['transaction_y']])\n",
    "\n",
    "# print(df.loc[df[''] ])\n",
    "#df[(df['date'].dt.month == 6) & (df['date'].dt.month <= 5 )]"
   ]
  }
 ],
 "metadata": {
  "interpreter": {
   "hash": "56437a377044b139ab9b94569826c150df79894d506b82e591d5707031adaf68"
  },
  "kernelspec": {
   "display_name": "Python 3.9.7 64-bit",
   "name": "python3"
  },
  "language_info": {
   "codemirror_mode": {
    "name": "ipython",
    "version": 3
   },
   "file_extension": ".py",
   "mimetype": "text/x-python",
   "name": "python",
   "nbconvert_exporter": "python",
   "pygments_lexer": "ipython3",
   "version": "3.9.7"
  }
 },
 "nbformat": 4,
 "nbformat_minor": 5
}
