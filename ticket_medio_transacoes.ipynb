{
 "cells": [
  {
   "cell_type": "code",
   "execution_count": null,
   "id": "da500d94",
   "metadata": {},
   "outputs": [],
   "source": [
    "# Código para análise ticket médio de transações\n",
    "\n",
    "#importando o pandas\n",
    "import pandas as pd\n",
    "\n",
    "#carregando os dados das transações\n",
    "df = pd.read_csv('transacoes.csv')\n",
    "\n",
    "#imprimindo os dados para conferir\n",
    "print(df)\n"
   ]
  },
  {
   "cell_type": "code",
   "execution_count": null,
   "metadata": {},
   "outputs": [],
   "source": [
    "#Agrupando os dados por clientes e realizando a média\n",
    "# através da função da agg (agregate), ela recebe um dicionário\n",
    "# cuja a chave é nome da coluna e o valor é o método de agragação\n",
    "df.groupby('id_client').agg({'transaction':'mean'}).head(10)"
   ]
  },
  {
   "cell_type": "code",
   "execution_count": null,
   "metadata": {},
   "outputs": [],
   "source": [
    "#Mostrar a quantidade de trasações por cliente\n",
    "# através da função size\n",
    "df.groupby('id_client').size().head(10)"
   ]
  },
  {
   "cell_type": "code",
   "execution_count": null,
   "metadata": {},
   "outputs": [],
   "source": [
    "#Filtrar dataframe por coluna\n",
    "# a função isin, verifica se a lista de valores passados existe na coluna especificada\n",
    "df[(df['transaction'] > 1000) & (df['gender'].isin(['Male']))]"
   ]
  }
 ],
 "metadata": {
  "interpreter": {
   "hash": "56437a377044b139ab9b94569826c150df79894d506b82e591d5707031adaf68"
  },
  "kernelspec": {
   "display_name": "Python 3.9.7 64-bit",
   "name": "python3"
  },
  "language_info": {
   "codemirror_mode": {
    "name": "ipython",
    "version": 3
   },
   "file_extension": ".py",
   "mimetype": "text/x-python",
   "name": "python",
   "nbconvert_exporter": "python",
   "pygments_lexer": "ipython3",
   "version": "3.9.7"
  }
 },
 "nbformat": 4,
 "nbformat_minor": 5
}
